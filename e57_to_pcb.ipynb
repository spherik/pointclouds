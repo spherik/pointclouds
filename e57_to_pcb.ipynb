{
 "cells": [
  {
   "cell_type": "code",
   "execution_count": 28,
   "metadata": {},
   "outputs": [],
   "source": [
    "import pye57\n",
    "import numpy as np\n",
    "import glob"
   ]
  },
  {
   "cell_type": "code",
   "execution_count": 29,
   "metadata": {},
   "outputs": [],
   "source": [
    "def write_pcb(points, filename):\n",
    "    file = open(filename,'w') #'/Users/tgurgui/Desktop/1x1_147_IC_Falstad_Scan_02_Pig/1x1_147_Falstad_Scan_314.pcd','w')\n",
    "    file.write('# .PCD v.7 - Point Cloud Data file format\\n')\n",
    "    file.write('VERSION .7\\n')\n",
    "    file.write('FIELDS x y z\\n')\n",
    "    file.write('SIZE 4 4 4\\n')\n",
    "    file.write('TYPE F F F\\n')\n",
    "    file.write('COUNT 1 1 1\\n')\n",
    "    file.write('WIDTH '+str(len(x))+'\\n')\n",
    "    file.write('HEIGHT 1\\n')\n",
    "    file.write('VIEWPOINT 0 0 0 1 0 0 0\\n')\n",
    "    file.write('POINTS '+str(len(x))+'\\n')\n",
    "    file.write('DATA ascii\\n') \n",
    "\n",
    "    for i in points:\n",
    "        file.write(repr(i[0])+\" \"+repr(i[1])+\" \"+repr(i[2])+'\\n')\n",
    "\n",
    "    file.close()"
   ]
  },
  {
   "cell_type": "code",
   "execution_count": 31,
   "metadata": {},
   "outputs": [
    {
     "name": "stdout",
     "output_type": "stream",
     "text": [
      "/Users/tgurgui/Desktop/1x1_147_IC_Falstad_Scan_02_Pig/1x1_147_Falstad_Scan_314.e57\n",
      "/Users/tgurgui/Desktop/1x1_147_IC_Falstad_Scan_02_Pig/1x1_147_Falstad_Scan_315.e57\n",
      "/Users/tgurgui/Desktop/1x1_147_IC_Falstad_Scan_02_Pig/1x1_147_Falstad_Scan_316.e57\n",
      "/Users/tgurgui/Desktop/1x1_147_IC_Falstad_Scan_02_Pig/1x1_147_Falstad_Scan_317.e57\n",
      "/Users/tgurgui/Desktop/1x1_147_IC_Falstad_Scan_02_Pig/1x1_147_Falstad_Scan_318.e57\n",
      "/Users/tgurgui/Desktop/1x1_147_IC_Falstad_Scan_02_Pig/1x1_147_Falstad_Scan_319.e57\n",
      "/Users/tgurgui/Desktop/1x1_147_IC_Falstad_Scan_02_Pig/1x1_147_Falstad_Scan_320.e57\n",
      "/Users/tgurgui/Desktop/1x1_147_IC_Falstad_Scan_02_Pig/1x1_147_Falstad_Scan_321.e57\n",
      "/Users/tgurgui/Desktop/1x1_147_IC_Falstad_Scan_02_Pig/1x1_147_Falstad_Scan_322.e57\n",
      "/Users/tgurgui/Desktop/1x1_147_IC_Falstad_Scan_02_Pig/1x1_147_Falstad_Scan_323.e57\n",
      "/Users/tgurgui/Desktop/1x1_147_IC_Falstad_Scan_02_Pig/1x1_147_Falstad_Scan_324.e57\n",
      "/Users/tgurgui/Desktop/1x1_147_IC_Falstad_Scan_02_Pig/1x1_147_Falstad_Scan_325.e57\n",
      "/Users/tgurgui/Desktop/1x1_147_IC_Falstad_Scan_02_Pig/1x1_147_Falstad_Scan_326.e57\n",
      "/Users/tgurgui/Desktop/1x1_147_IC_Falstad_Scan_02_Pig/1x1_147_Falstad_Scan_327.e57\n",
      "/Users/tgurgui/Desktop/1x1_147_IC_Falstad_Scan_02_Pig/1x1_147_Falstad_Scan_328.e57\n",
      "/Users/tgurgui/Desktop/1x1_147_IC_Falstad_Scan_02_Pig/1x1_147_Falstad_Scan_329.e57\n",
      "/Users/tgurgui/Desktop/1x1_147_IC_Falstad_Scan_02_Pig/1x1_147_Falstad_Scan_330.e57\n",
      "/Users/tgurgui/Desktop/1x1_147_IC_Falstad_Scan_02_Pig/1x1_147_Falstad_Scan_331.e57\n",
      "/Users/tgurgui/Desktop/1x1_147_IC_Falstad_Scan_02_Pig/1x1_147_Falstad_Scan_332.e57\n",
      "/Users/tgurgui/Desktop/1x1_147_IC_Falstad_Scan_02_Pig/1x1_147_Falstad_Scan_333.e57\n",
      "/Users/tgurgui/Desktop/1x1_147_IC_Falstad_Scan_02_Pig/1x1_147_Falstad_Scan_334.e57\n",
      "/Users/tgurgui/Desktop/1x1_147_IC_Falstad_Scan_02_Pig/1x1_147_Falstad_Scan_335.e57\n",
      "/Users/tgurgui/Desktop/1x1_147_IC_Falstad_Scan_02_Pig/1x1_147_Falstad_Scan_336.e57\n",
      "/Users/tgurgui/Desktop/1x1_147_IC_Falstad_Scan_02_Pig/1x1_147_Falstad_Scan_337.e57\n",
      "/Users/tgurgui/Desktop/1x1_147_IC_Falstad_Scan_02_Pig/1x1_147_Falstad_Scan_338.e57\n",
      "/Users/tgurgui/Desktop/1x1_147_IC_Falstad_Scan_02_Pig/1x1_147_Falstad_Scan_339.e57\n",
      "/Users/tgurgui/Desktop/1x1_147_IC_Falstad_Scan_02_Pig/1x1_147_Falstad_Scan_340.e57\n",
      "/Users/tgurgui/Desktop/1x1_147_IC_Falstad_Scan_02_Pig/1x1_147_Falstad_Scan_341.e57\n",
      "/Users/tgurgui/Desktop/1x1_147_IC_Falstad_Scan_02_Pig/1x1_147_Falstad_Scan_342.e57\n",
      "/Users/tgurgui/Desktop/1x1_147_IC_Falstad_Scan_02_Pig/1x1_147_Falstad_Scan_343.e57\n",
      "/Users/tgurgui/Desktop/1x1_147_IC_Falstad_Scan_02_Pig/1x1_147_Falstad_Scan_344.e57\n"
     ]
    }
   ],
   "source": [
    "for file in glob.glob(\"/Users/tgurgui/Desktop/1x1_147_IC_Falstad_Scan_02_Pig/*.e57\"):\n",
    "    print(file)\n",
    "    e57 = pye57.E57(file) #\"/Users/tgurgui/Desktop/1x1_147_IC_Falstad_Scan_02_Pig/1x1_147_Falstad_Scan_314.e57\")\n",
    "\n",
    "    # read scan at index 0\n",
    "    data = e57.read_scan(0)\n",
    "\n",
    "    x = data[\"cartesianX\"]\n",
    "    y = data[\"cartesianY\"]\n",
    "    z = data[\"cartesianZ\"]\n",
    "    points = np.vstack([data[\"cartesianX\"],data[\"cartesianY\"],data[\"cartesianZ\"]]).T\n",
    "    write_pcb(points, file.replace(\".e57\", \".pcb\"))"
   ]
  },
  {
   "cell_type": "code",
   "execution_count": null,
   "metadata": {},
   "outputs": [],
   "source": []
  }
 ],
 "metadata": {
  "kernelspec": {
   "display_name": "Python 3",
   "language": "python",
   "name": "python3"
  },
  "language_info": {
   "codemirror_mode": {
    "name": "ipython",
    "version": 3
   },
   "file_extension": ".py",
   "mimetype": "text/x-python",
   "name": "python",
   "nbconvert_exporter": "python",
   "pygments_lexer": "ipython3",
   "version": "3.6.6"
  }
 },
 "nbformat": 4,
 "nbformat_minor": 2
}
